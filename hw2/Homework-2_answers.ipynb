{
 "cells": [
  {
   "cell_type": "markdown",
   "metadata": {
    "id": "448enWz92r0c"
   },
   "source": [
    "**Homework 2:** *Data-Driven Modeling for Engineers* (ME 2063) - Instructor: H. Babaee,  **Due: 4:00 pm, January 26, 2023.**"
   ]
  },
  {
   "cell_type": "markdown",
   "metadata": {
    "id": "LJPfenA70qNH"
   },
   "source": [
    "Download *Data.npz* from Canvas. The data set contains input vector $x$ and noisy measurements $y$. The data set contains $N=50$ measurements."
   ]
  },
  {
   "cell_type": "code",
   "execution_count": 1,
   "metadata": {},
   "outputs": [],
   "source": [
    "import numpy as np\n",
    "import pandas as pd\n",
    "from sklearn.model_selection import train_test_split\n",
    "import matplotlib.pyplot as plt"
   ]
  },
  {
   "cell_type": "code",
   "execution_count": 2,
   "metadata": {
    "id": "0IMxvRlp8RDo"
   },
   "outputs": [
    {
     "name": "stdout",
     "output_type": "stream",
     "text": [
      "(50, 1)\n",
      "(50, 1)\n"
     ]
    }
   ],
   "source": [
    "# load the data set\n",
    "data = np.load('Data-HW2.npz')\n",
    "X = data['X']\n",
    "Y = data['Y']\n",
    "\n",
    "print(X.shape)\n",
    "print(Y.shape)"
   ]
  },
  {
   "cell_type": "code",
   "execution_count": 3,
   "metadata": {},
   "outputs": [
    {
     "data": {
      "text/html": [
       "<div>\n",
       "<style scoped>\n",
       "    .dataframe tbody tr th:only-of-type {\n",
       "        vertical-align: middle;\n",
       "    }\n",
       "\n",
       "    .dataframe tbody tr th {\n",
       "        vertical-align: top;\n",
       "    }\n",
       "\n",
       "    .dataframe thead th {\n",
       "        text-align: right;\n",
       "    }\n",
       "</style>\n",
       "<table border=\"1\" class=\"dataframe\">\n",
       "  <thead>\n",
       "    <tr style=\"text-align: right;\">\n",
       "      <th></th>\n",
       "      <th>X</th>\n",
       "      <th>Y</th>\n",
       "    </tr>\n",
       "  </thead>\n",
       "  <tbody>\n",
       "    <tr>\n",
       "      <th>count</th>\n",
       "      <td>50.000000</td>\n",
       "      <td>50.000000</td>\n",
       "    </tr>\n",
       "    <tr>\n",
       "      <th>mean</th>\n",
       "      <td>0.500000</td>\n",
       "      <td>0.085211</td>\n",
       "    </tr>\n",
       "    <tr>\n",
       "      <th>std</th>\n",
       "      <td>0.297498</td>\n",
       "      <td>0.913089</td>\n",
       "    </tr>\n",
       "    <tr>\n",
       "      <th>min</th>\n",
       "      <td>0.000000</td>\n",
       "      <td>-1.821754</td>\n",
       "    </tr>\n",
       "    <tr>\n",
       "      <th>25%</th>\n",
       "      <td>0.250000</td>\n",
       "      <td>-0.595392</td>\n",
       "    </tr>\n",
       "    <tr>\n",
       "      <th>50%</th>\n",
       "      <td>0.500000</td>\n",
       "      <td>0.180701</td>\n",
       "    </tr>\n",
       "    <tr>\n",
       "      <th>75%</th>\n",
       "      <td>0.750000</td>\n",
       "      <td>0.730295</td>\n",
       "    </tr>\n",
       "    <tr>\n",
       "      <th>max</th>\n",
       "      <td>1.000000</td>\n",
       "      <td>1.928662</td>\n",
       "    </tr>\n",
       "  </tbody>\n",
       "</table>\n",
       "</div>"
      ],
      "text/plain": [
       "               X          Y\n",
       "count  50.000000  50.000000\n",
       "mean    0.500000   0.085211\n",
       "std     0.297498   0.913089\n",
       "min     0.000000  -1.821754\n",
       "25%     0.250000  -0.595392\n",
       "50%     0.500000   0.180701\n",
       "75%     0.750000   0.730295\n",
       "max     1.000000   1.928662"
      ]
     },
     "execution_count": 3,
     "metadata": {},
     "output_type": "execute_result"
    }
   ],
   "source": [
    "# descriptive statistics\n",
    "data = pd.DataFrame(dict(X=X[:,0], Y=Y[:,0]))\n",
    "data.describe()"
   ]
  },
  {
   "cell_type": "code",
   "execution_count": 4,
   "metadata": {},
   "outputs": [
    {
     "data": {
      "image/png": "[encoded data removed]",
      "text/plain": [
       "<Figure size 400x400 with 1 Axes>"
      ]
     },
     "metadata": {},
     "output_type": "display_data"
    }
   ],
   "source": [
    "# data visualization\n",
    "fig, ax = plt.subplots(figsize=(4, 4))\n",
    "ax.set_title('Data visualization')\n",
    "ax.set_xlabel('X')\n",
    "ax.set_ylabel('Y')\n",
    "ax.grid(linestyle=':')\n",
    "ax.scatter(data.X, data.Y, marker='+')\n",
    "fig.tight_layout()"
   ]
  },
  {
   "cell_type": "markdown",
   "metadata": {
    "id": "KKTV7a-OaVZt"
   },
   "source": [
    "# Problem 1\n",
    "Consider the polynomial as basis functions: $\\Phi(x)=[1,x, \\dots, x^{K-1} ]$, where $K$ is the number of basis functions. The objective of this problem is to determine what choice of $K$ is optimal.\n",
    "\n",
    "\n",
    "1.   Write a program to build different linear regression models in the form of $f(x;\\boldsymbol{\\theta}) = \\sum_{i=1}^K \\theta_i \\phi_i(x)$  by varying the model complexity $K$. For each $K$, compute the *training error* and the *generalization error*.  Build 10 regression models by varying $K$ from $K=1$  to $K=10$. **Hint:** To compute the training error and the generalization error, *randomly* divide the data to two *disjoint* sets of  80\\% training  data and 20\\% test data.\n",
    "2.    Plot the training and generalization errors in one figure with respect to $K$ and legend accordingly. **Hint:** For the definition of the errors, please refer to the lecture notes.\n",
    "3.    What is the best model complexity? Please justify your answer. "
   ]
  },
  {
   "cell_type": "markdown",
   "metadata": {
    "id": "kKcw6SnDE1V9"
   },
   "source": []
  },
  {
   "cell_type": "code",
   "execution_count": 5,
   "metadata": {
    "id": "HMjkmhZq6uNO"
   },
   "outputs": [],
   "source": [
    "x_train, x_test, y_train, y_test = train_test_split(X, Y, test_size=0.20, random_state=1234)"
   ]
  },
  {
   "cell_type": "code",
   "execution_count": 6,
   "metadata": {},
   "outputs": [
    {
     "data": {
      "text/plain": [
       "(40, 3)"
      ]
     },
     "execution_count": 6,
     "metadata": {},
     "output_type": "execute_result"
    }
   ],
   "source": [
    "def poly_basis(x, K):\n",
    "    '''\n",
    "    Polynomial basis functions.\n",
    "    \n",
    "    Args:\n",
    "        x: (N, 1) input array.\n",
    "        K: # of basis functions.\n",
    "    Returns:\n",
    "        (N, K) output array.\n",
    "    '''\n",
    "    return x ** np.arange(K)\n",
    "\n",
    "poly_basis(x_train, K=3).shape"
   ]
  },
  {
   "cell_type": "code",
   "execution_count": 7,
   "metadata": {},
   "outputs": [
    {
     "data": {
      "text/plain": [
       "(40, 1)"
      ]
     },
     "execution_count": 7,
     "metadata": {},
     "output_type": "execute_result"
    }
   ],
   "source": [
    "def linear_model(x, theta, basis):\n",
    "    '''\n",
    "    Evaluate linear regression model.\n",
    "    \n",
    "    Args:\n",
    "        x: (N, 1) input array.\n",
    "        theta: (K, 1) parameter array.\n",
    "        basis: Basis function(s).\n",
    "    Returns:\n",
    "        (N, 1) output array.\n",
    "    '''\n",
    "    phi = basis(x, K=len(theta))\n",
    "    return phi @ theta\n",
    "\n",
    "linear_model(x_train, theta=np.ones((3, 1)), basis=poly_basis).shape"
   ]
  },
  {
   "cell_type": "code",
   "execution_count": 8,
   "metadata": {},
   "outputs": [
    {
     "data": {
      "text/plain": [
       "(3, 1)"
      ]
     },
     "execution_count": 8,
     "metadata": {},
     "output_type": "execute_result"
    }
   ],
   "source": [
    "def linear_fit(x, y, K, basis):\n",
    "    '''\n",
    "    Fit linear regression model.\n",
    "    \n",
    "    Args:\n",
    "        x: (N, 1) input array.\n",
    "        y: (N, 1) target array.\n",
    "        K: # of basis functions.\n",
    "        basis: Basis function(s).\n",
    "    Returns:\n",
    "        theta: (K, 1) parameter array.\n",
    "    '''\n",
    "    phi = basis(x, K)\n",
    "    A, b = phi.T @ phi, phi.T @ y\n",
    "    return np.linalg.solve(A, b)\n",
    "\n",
    "linear_fit(x_train, y_train, K=3, basis=poly_basis).shape"
   ]
  },
  {
   "cell_type": "code",
   "execution_count": 9,
   "metadata": {},
   "outputs": [],
   "source": [
    "def mse(y_pred, y_true):\n",
    "    '''\n",
    "    Mean squared error.\n",
    "    \n",
    "    Args:\n",
    "        y_pred: (N, 1) output array.\n",
    "        y_true: (N, 1) target array.\n",
    "    Returns:\n",
    "        Error value.\n",
    "    '''\n",
    "    return np.mean((y_pred - y_true)**2) / 2"
   ]
  },
  {
   "cell_type": "code",
   "execution_count": 10,
   "metadata": {},
   "outputs": [
    {
     "data": {
      "text/html": [
       "<div>\n",
       "<style scoped>\n",
       "    .dataframe tbody tr th:only-of-type {\n",
       "        vertical-align: middle;\n",
       "    }\n",
       "\n",
       "    .dataframe tbody tr th {\n",
       "        vertical-align: top;\n",
       "    }\n",
       "\n",
       "    .dataframe thead tr th {\n",
       "        text-align: left;\n",
       "    }\n",
       "\n",
       "    .dataframe thead tr:last-of-type th {\n",
       "        text-align: right;\n",
       "    }\n",
       "</style>\n",
       "<table border=\"1\" class=\"dataframe\">\n",
       "  <thead>\n",
       "    <tr>\n",
       "      <th></th>\n",
       "      <th></th>\n",
       "      <th colspan=\"2\" halign=\"left\">MSE</th>\n",
       "    </tr>\n",
       "    <tr>\n",
       "      <th></th>\n",
       "      <th>data</th>\n",
       "      <th>test</th>\n",
       "      <th>train</th>\n",
       "    </tr>\n",
       "    <tr>\n",
       "      <th>model</th>\n",
       "      <th>K</th>\n",
       "      <th></th>\n",
       "      <th></th>\n",
       "    </tr>\n",
       "  </thead>\n",
       "  <tbody>\n",
       "    <tr>\n",
       "      <th rowspan=\"10\" valign=\"top\">poly</th>\n",
       "      <th>1</th>\n",
       "      <td>0.471676</td>\n",
       "      <td>0.392946</td>\n",
       "    </tr>\n",
       "    <tr>\n",
       "      <th>2</th>\n",
       "      <td>0.238097</td>\n",
       "      <td>0.228767</td>\n",
       "    </tr>\n",
       "    <tr>\n",
       "      <th>3</th>\n",
       "      <td>0.271087</td>\n",
       "      <td>0.225693</td>\n",
       "    </tr>\n",
       "    <tr>\n",
       "      <th>4</th>\n",
       "      <td>0.051888</td>\n",
       "      <td>0.068431</td>\n",
       "    </tr>\n",
       "    <tr>\n",
       "      <th>5</th>\n",
       "      <td>0.058653</td>\n",
       "      <td>0.067009</td>\n",
       "    </tr>\n",
       "    <tr>\n",
       "      <th>6</th>\n",
       "      <td>0.066502</td>\n",
       "      <td>0.059303</td>\n",
       "    </tr>\n",
       "    <tr>\n",
       "      <th>7</th>\n",
       "      <td>0.064292</td>\n",
       "      <td>0.059043</td>\n",
       "    </tr>\n",
       "    <tr>\n",
       "      <th>8</th>\n",
       "      <td>0.068046</td>\n",
       "      <td>0.058731</td>\n",
       "    </tr>\n",
       "    <tr>\n",
       "      <th>9</th>\n",
       "      <td>0.063554</td>\n",
       "      <td>0.056096</td>\n",
       "    </tr>\n",
       "    <tr>\n",
       "      <th>10</th>\n",
       "      <td>0.087406</td>\n",
       "      <td>0.055642</td>\n",
       "    </tr>\n",
       "  </tbody>\n",
       "</table>\n",
       "</div>"
      ],
      "text/plain": [
       "               MSE          \n",
       "data          test     train\n",
       "model K                     \n",
       "poly  1   0.471676  0.392946\n",
       "      2   0.238097  0.228767\n",
       "      3   0.271087  0.225693\n",
       "      4   0.051888  0.068431\n",
       "      5   0.058653  0.067009\n",
       "      6   0.066502  0.059303\n",
       "      7   0.064292  0.059043\n",
       "      8   0.068046  0.058731\n",
       "      9   0.063554  0.056096\n",
       "      10  0.087406  0.055642"
      ]
     },
     "execution_count": 10,
     "metadata": {},
     "output_type": "execute_result"
    }
   ],
   "source": [
    "K_range = np.arange(1, 11)\n",
    "\n",
    "results = pd.DataFrame(columns=['model', 'data', 'K', 'MSE'])\n",
    "results.set_index(['model', 'data', 'K'], inplace=True)\n",
    "\n",
    "for K in K_range:\n",
    "    \n",
    "    # fit model parameters\n",
    "    theta = linear_fit(x_train, y_train, K, poly_basis)\n",
    "    \n",
    "    # evaluate model predictions\n",
    "    yp_train = linear_model(x_train, theta, poly_basis)\n",
    "    yp_test = linear_model(x_test, theta, poly_basis)\n",
    "    \n",
    "    # compute mean squared error\n",
    "    results.loc[('poly', 'train', K), 'MSE'] = mse(yp_train, y_train)\n",
    "    results.loc[('poly', 'test', K), 'MSE']  = mse(yp_test, y_test)\n",
    "\n",
    "results.sort_index(inplace=True)\n",
    "results.unstack(level=1)"
   ]
  },
  {
   "cell_type": "code",
   "execution_count": 11,
   "metadata": {},
   "outputs": [
    {
     "data": {
      "image/png": "[encoded data removed]",
      "text/plain": [
       "<Figure size 400x400 with 1 Axes>"
      ]
     },
     "metadata": {},
     "output_type": "display_data"
    }
   ],
   "source": [
    "fig, ax = plt.subplots(figsize=(4, 4))\n",
    "ax.set_title('Error vs. # polynomial basis functions')\n",
    "ax.set_xlabel('K')\n",
    "ax.set_ylabel('MSE')\n",
    "ax.set_yscale('log')\n",
    "ax.set_xlim(0, 11)\n",
    "ax.set_ylim(0.01, 1.0)\n",
    "ax.grid(linestyle=':')\n",
    "ax.plot(K_range, results.loc['poly', 'train'].MSE, label='train')\n",
    "ax.plot(K_range, results.loc['poly', 'test'].MSE, label='test')\n",
    "ax.legend(frameon=False)\n",
    "fig.tight_layout()"
   ]
  },
  {
   "cell_type": "markdown",
   "metadata": {},
   "source": [
    "The figure above shows the relationship between the model error and the model complexity, as measured by the hyperparameter $K$, the number of polynomial basis functions.\n",
    "\n",
    "The error on the training data steadily decreases as the model complexity increases. This is because $K$ increases the the number of degrees of freedom, which makes the model more flexible so it can better approximate the training data points.\n",
    "\n",
    "The error on the test data also decreases at first. However, as $K$ increases beyond 4, the test error starts to increase. This indicates the point at which the model begins to fit noise in the training data.\n",
    "\n",
    "Therefore, the optimal number of polynomial basis functions 4, because this is the point where the generalization error (as measured by error on the test set) is expected to be minimized."
   ]
  },
  {
   "cell_type": "markdown",
   "metadata": {
    "id": "Vh_vD7T6yT8P"
   },
   "source": [
    "# Problem 2\n",
    "The objective of this problem is to compare the performance of two different bases functions. \n",
    "\n",
    "\n",
    "1.   Repeat Parts 1-3 from Problem 1 for a different choice of basis function. This time use *Gaussian radial basis (GRB) functions*, where $f(x;\\boldsymbol{\\theta}) = \\sum_{i=0}^{K-1} \\theta_i \\phi_i(x)$ where $\\Phi(x)=[\\phi_0(x), \\phi_1(x), \\dots, \\phi_{K-1}(x)]$, where:\n",
    "\\begin{align*}\n",
    "    \\phi_0(x) &= 1\\\\\n",
    "    \\phi_i(x) &= \\exp\\big(-\\frac{(x-\\mu_i)^2}{s^2}\\big), \\quad, i=1,2, \\dots, K-1, \n",
    "\\end{align*}\n",
    " `s = 0.2` and `mu = np.linspace(0,1,K-1)`.\n",
    "2.  Which of these two bases functions (polynomial versus GRB)  would you choose for this problem? Please justify your answer. \n",
    "\n",
    "\n",
    " \n",
    "\n",
    " \n",
    "\n",
    "\n"
   ]
  },
  {
   "cell_type": "code",
   "execution_count": 12,
   "metadata": {},
   "outputs": [
    {
     "data": {
      "text/plain": [
       "(40, 3)"
      ]
     },
     "execution_count": 12,
     "metadata": {},
     "output_type": "execute_result"
    }
   ],
   "source": [
    "def gauss_basis(x, K, s=0.2):\n",
    "    '''\n",
    "    Gaussian basis functions.\n",
    "    \n",
    "    Args:\n",
    "        x: (N, 1) input array.\n",
    "        K: # of basis functions.\n",
    "    Returns:\n",
    "        (N, K) output array.\n",
    "    '''\n",
    "    phi = np.ones((len(x), K))\n",
    "    mu = np.linspace(0, 1, K - 1)\n",
    "    #mu = np.linspace(0, 1, K + 1)[1:-1]\n",
    "    #s = 1 / K\n",
    "    phi[:,1:] = np.exp(-(x - mu)**2 / s**2)\n",
    "    return phi\n",
    "\n",
    "gauss_basis(x_train, K=3).shape"
   ]
  },
  {
   "cell_type": "code",
   "execution_count": 13,
   "metadata": {},
   "outputs": [
    {
     "data": {
      "text/html": [
       "<div>\n",
       "<style scoped>\n",
       "    .dataframe tbody tr th:only-of-type {\n",
       "        vertical-align: middle;\n",
       "    }\n",
       "\n",
       "    .dataframe tbody tr th {\n",
       "        vertical-align: top;\n",
       "    }\n",
       "\n",
       "    .dataframe thead tr th {\n",
       "        text-align: left;\n",
       "    }\n",
       "\n",
       "    .dataframe thead tr:last-of-type th {\n",
       "        text-align: right;\n",
       "    }\n",
       "</style>\n",
       "<table border=\"1\" class=\"dataframe\">\n",
       "  <thead>\n",
       "    <tr>\n",
       "      <th></th>\n",
       "      <th></th>\n",
       "      <th colspan=\"2\" halign=\"left\">MSE</th>\n",
       "    </tr>\n",
       "    <tr>\n",
       "      <th></th>\n",
       "      <th>data</th>\n",
       "      <th>test</th>\n",
       "      <th>train</th>\n",
       "    </tr>\n",
       "    <tr>\n",
       "      <th>model</th>\n",
       "      <th>K</th>\n",
       "      <th></th>\n",
       "      <th></th>\n",
       "    </tr>\n",
       "  </thead>\n",
       "  <tbody>\n",
       "    <tr>\n",
       "      <th rowspan=\"10\" valign=\"top\">gauss</th>\n",
       "      <th>1</th>\n",
       "      <td>0.471676</td>\n",
       "      <td>0.392946</td>\n",
       "    </tr>\n",
       "    <tr>\n",
       "      <th>2</th>\n",
       "      <td>0.345828</td>\n",
       "      <td>0.361043</td>\n",
       "    </tr>\n",
       "    <tr>\n",
       "      <th>3</th>\n",
       "      <td>0.356705</td>\n",
       "      <td>0.327391</td>\n",
       "    </tr>\n",
       "    <tr>\n",
       "      <th>4</th>\n",
       "      <td>0.356337</td>\n",
       "      <td>0.327382</td>\n",
       "    </tr>\n",
       "    <tr>\n",
       "      <th>5</th>\n",
       "      <td>0.096545</td>\n",
       "      <td>0.071883</td>\n",
       "    </tr>\n",
       "    <tr>\n",
       "      <th>6</th>\n",
       "      <td>0.070798</td>\n",
       "      <td>0.059105</td>\n",
       "    </tr>\n",
       "    <tr>\n",
       "      <th>7</th>\n",
       "      <td>0.064676</td>\n",
       "      <td>0.059051</td>\n",
       "    </tr>\n",
       "    <tr>\n",
       "      <th>8</th>\n",
       "      <td>0.058021</td>\n",
       "      <td>0.054508</td>\n",
       "    </tr>\n",
       "    <tr>\n",
       "      <th>9</th>\n",
       "      <td>0.057167</td>\n",
       "      <td>0.054506</td>\n",
       "    </tr>\n",
       "    <tr>\n",
       "      <th>10</th>\n",
       "      <td>0.057311</td>\n",
       "      <td>0.054502</td>\n",
       "    </tr>\n",
       "    <tr>\n",
       "      <th rowspan=\"10\" valign=\"top\">poly</th>\n",
       "      <th>1</th>\n",
       "      <td>0.471676</td>\n",
       "      <td>0.392946</td>\n",
       "    </tr>\n",
       "    <tr>\n",
       "      <th>2</th>\n",
       "      <td>0.238097</td>\n",
       "      <td>0.228767</td>\n",
       "    </tr>\n",
       "    <tr>\n",
       "      <th>3</th>\n",
       "      <td>0.271087</td>\n",
       "      <td>0.225693</td>\n",
       "    </tr>\n",
       "    <tr>\n",
       "      <th>4</th>\n",
       "      <td>0.051888</td>\n",
       "      <td>0.068431</td>\n",
       "    </tr>\n",
       "    <tr>\n",
       "      <th>5</th>\n",
       "      <td>0.058653</td>\n",
       "      <td>0.067009</td>\n",
       "    </tr>\n",
       "    <tr>\n",
       "      <th>6</th>\n",
       "      <td>0.066502</td>\n",
       "      <td>0.059303</td>\n",
       "    </tr>\n",
       "    <tr>\n",
       "      <th>7</th>\n",
       "      <td>0.064292</td>\n",
       "      <td>0.059043</td>\n",
       "    </tr>\n",
       "    <tr>\n",
       "      <th>8</th>\n",
       "      <td>0.068046</td>\n",
       "      <td>0.058731</td>\n",
       "    </tr>\n",
       "    <tr>\n",
       "      <th>9</th>\n",
       "      <td>0.063554</td>\n",
       "      <td>0.056096</td>\n",
       "    </tr>\n",
       "    <tr>\n",
       "      <th>10</th>\n",
       "      <td>0.087406</td>\n",
       "      <td>0.055642</td>\n",
       "    </tr>\n",
       "  </tbody>\n",
       "</table>\n",
       "</div>"
      ],
      "text/plain": [
       "               MSE          \n",
       "data          test     train\n",
       "model K                     \n",
       "gauss 1   0.471676  0.392946\n",
       "      2   0.345828  0.361043\n",
       "      3   0.356705  0.327391\n",
       "      4   0.356337  0.327382\n",
       "      5   0.096545  0.071883\n",
       "      6   0.070798  0.059105\n",
       "      7   0.064676  0.059051\n",
       "      8   0.058021  0.054508\n",
       "      9   0.057167  0.054506\n",
       "      10  0.057311  0.054502\n",
       "poly  1   0.471676  0.392946\n",
       "      2   0.238097  0.228767\n",
       "      3   0.271087  0.225693\n",
       "      4   0.051888  0.068431\n",
       "      5   0.058653  0.067009\n",
       "      6   0.066502  0.059303\n",
       "      7   0.064292  0.059043\n",
       "      8   0.068046  0.058731\n",
       "      9   0.063554  0.056096\n",
       "      10  0.087406  0.055642"
      ]
     },
     "execution_count": 13,
     "metadata": {},
     "output_type": "execute_result"
    }
   ],
   "source": [
    "for K in K_range:\n",
    "    \n",
    "    # fit model parameters\n",
    "    theta = linear_fit(x_train, y_train, K, gauss_basis)\n",
    "    \n",
    "    # evaluate model predictions\n",
    "    yp_train = linear_model(x_train, theta, gauss_basis)\n",
    "    yp_test = linear_model(x_test, theta, gauss_basis)\n",
    "    \n",
    "    # compute mean squared error\n",
    "    results.loc[('gauss', 'train', K), 'MSE'] = mse(yp_train, y_train)\n",
    "    results.loc[('gauss', 'test', K), 'MSE']  = mse(yp_test, y_test)\n",
    "\n",
    "results.sort_index(inplace=True)\n",
    "results.unstack(level=1)"
   ]
  },
  {
   "cell_type": "code",
   "execution_count": 14,
   "metadata": {},
   "outputs": [
    {
     "data": {
      "image/png": "[encoded data removed]",
      "text/plain": [
       "<Figure size 400x400 with 1 Axes>"
      ]
     },
     "metadata": {},
     "output_type": "display_data"
    }
   ],
   "source": [
    "fig, ax = plt.subplots(figsize=(4, 4))\n",
    "ax.set_title('Error vs. # Gaussian basis functions')\n",
    "ax.set_xlabel('K')\n",
    "ax.set_ylabel('MSE')\n",
    "ax.set_yscale('log')\n",
    "ax.set_xlim(0, 11)\n",
    "ax.set_ylim(0.01, 1.0)\n",
    "ax.grid(linestyle=':')\n",
    "ax.plot(K_range, results.loc['gauss', 'train'].MSE, label='train')\n",
    "ax.plot(K_range, results.loc['gauss', 'test'].MSE, label='test')\n",
    "ax.legend(frameon=False)\n",
    "fig.tight_layout()"
   ]
  },
  {
   "cell_type": "markdown",
   "metadata": {},
   "source": [
    "In this figure, we plot the mean squared error with respect to the number of Gaussian radial basis functions. In this case, both the train and test error decrease as the model complexity increases. In contrast with the polynomial model, we do not see a point beyond which the test error worsens as we increase the number of basis functions. Therefore, the best choice for $K$ out the options we evaluated is 10 radial basis functions."
   ]
  },
  {
   "cell_type": "code",
   "execution_count": 16,
   "metadata": {},
   "outputs": [
    {
     "data": {
      "image/png": "[encoded data removed]",
      "text/plain": [
       "<Figure size 400x400 with 1 Axes>"
      ]
     },
     "metadata": {},
     "output_type": "display_data"
    }
   ],
   "source": [
    "# model comparison\n",
    "theta_poly = linear_fit(x_train, y_train, 4, poly_basis)\n",
    "theta_gauss = linear_fit(x_train, y_train, 10, gauss_basis)\n",
    "\n",
    "x_plot = np.linspace(0, 1)[:,np.newaxis]\n",
    "yp_poly = linear_model(x_plot, theta_poly, poly_basis)\n",
    "yp_gauss = linear_model(x_plot, theta_gauss, gauss_basis)\n",
    "\n",
    "fig, ax = plt.subplots(figsize=(4, 4))\n",
    "ax.set_title('Model comparison')\n",
    "ax.set_xlabel('X')\n",
    "ax.set_ylabel('Y')\n",
    "ax.grid(linestyle=':')\n",
    "ax.scatter(data.X, data.Y, marker='+', label='data')\n",
    "ax.plot(x_plot, yp_poly, label='poly (K=4)', color='C1')\n",
    "ax.plot(x_plot, yp_gauss, label='gauss (K=10)', color='C2')\n",
    "ax.legend(frameon=False)\n",
    "fig.tight_layout()"
   ]
  },
  {
   "cell_type": "markdown",
   "metadata": {},
   "source": [
    "Finally, we compare the best polynomial model with the best Gaussian model by plotting their predicted values against the input value, with the data points shown as well.\n",
    "\n",
    "Qualitatively, we can see that the Gaussian model has multiple local maxima and minima, while the polynomial model only has one local maximum and one local minimum. This is in line with our expectation that more complex models exhibit more curvature on noisy data, and the Gaussian model has 10 basis functions compared to only 4 for the polynomial model.\n",
    "\n",
    "In quantitative terms, the polynomial model has test error of 0.05188 and the Gaussian model has test error of 0.05731. The polynomial model is not only simpler, but actually has better generalization error than the Gaussian model. For these reasons, I would select the polynomial model as the best option out of all the models tested."
   ]
  },
  {
   "cell_type": "code",
   "execution_count": null,
   "metadata": {},
   "outputs": [],
   "source": []
  }
 ],
 "metadata": {
  "colab": {
   "collapsed_sections": [],
   "name": "Homework-3.ipynb",
   "provenance": []
  },
  "kernelspec": {
   "display_name": "ME2063",
   "language": "python",
   "name": "me2063"
  },
  "language_info": {
   "codemirror_mode": {
    "name": "ipython",
    "version": 3
   },
   "file_extension": ".py",
   "mimetype": "text/x-python",
   "name": "python",
   "nbconvert_exporter": "python",
   "pygments_lexer": "ipython3",
   "version": "3.11.0"
  }
 },
 "nbformat": 4,
 "nbformat_minor": 1
}
