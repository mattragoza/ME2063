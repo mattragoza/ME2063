{
 "cells": [
  {
   "cell_type": "markdown",
   "metadata": {
    "id": "448enWz92r0c"
   },
   "source": [
    "**Homework 1:** *Data-Driven Modeling for Engineers* (ME 2063) - Instructor: H. Babaee,  **Due: 4:00 pm, January 19, 2023.**"
   ]
  },
  {
   "cell_type": "code",
   "execution_count": 1,
   "metadata": {
    "id": "MCPRvrGqaL_0"
   },
   "outputs": [],
   "source": [
    "import numpy as np\n",
    "import matplotlib.pyplot as plt"
   ]
  },
  {
   "cell_type": "markdown",
   "metadata": {
    "id": "g6ribkU10S9Z"
   },
   "source": [
    "Watch [this](https://www.youtube.com/watch?v=wB9C0Mz9gSo) Matplotlib tutorial before solving Problems 1 and 2. You can also use MATLAB for this Homework."
   ]
  },
  {
   "cell_type": "markdown",
   "metadata": {
    "id": "KKTV7a-OaVZt"
   },
   "source": [
    "# Problem 1\n",
    "Compute the x, y and z coordinates such that $y = \\sin(x)$, $z = \\cos(x)$ and $x \\in [0,2\\pi]$. Plot the y and z curves using Matplotlib with title, legend, grid, and axes labels."
   ]
  },
  {
   "cell_type": "code",
   "execution_count": 8,
   "metadata": {
    "id": "NooncZVNax_3"
   },
   "outputs": [
    {
     "data": {
      "image/png": "[encoded data removed]",
      "text/plain": [
       "<Figure size 576x216 with 1 Axes>"
      ]
     },
     "metadata": {
      "needs_background": "light"
     },
     "output_type": "display_data"
    }
   ],
   "source": [
    "x = np.linspace(0, 2 * np.pi)\n",
    "y = np.sin(x)\n",
    "z = np.cos(x)\n",
    "\n",
    "fig, ax = plt.subplots(figsize=(8,3))\n",
    "ax.plot(x, y, label='sin')\n",
    "ax.plot(x, z, label='cos')\n",
    "ax.set_title('Sine and cosine')\n",
    "ax.set_ylabel('f(x)')\n",
    "ax.set_xlabel('x')\n",
    "ax.legend(frameon=False)\n",
    "ax.grid(linestyle=':')\n",
    "fig.tight_layout()"
   ]
  },
  {
   "cell_type": "markdown",
   "metadata": {
    "id": "Vh_vD7T6yT8P"
   },
   "source": [
    "# Problem 2\n",
    "A regression model is  given by: $f(x;\\boldsymbol{\\theta}) = \\theta_1 x + \\theta_2 x^2$. Assuming that  $\\{x_n,y_n\\}, n=1,2, \\dots N$ is the training  data:\n",
    "\n",
    "\n",
    "1. Find an analytical expression for the optimum $\\theta_1$ and $\\theta_2$ by minimizing the loss function given by: \n",
    "    \\begin{equation}\n",
    "       E(\\theta_1,\\theta_2) = \\frac{1}{2} \\sum_{n=1}^N (\\theta_1 x_n + \\theta_2 x_n^2 - y_n)^2\n",
    "    \\end{equation}\n",
    "   To this end, you should use the optimality conditions   $\\partial E/\\partial \\theta_1=0$\n",
    "   and $\\partial E/\\partial \\theta_2=0$ and find a linear system of equations for $\\theta_1$ and $\\theta_2$. Show all the details. \n",
    "2.  Assume the training data is given in the table below and use the expression in Part 1 and calculate the optimum $\\theta_1$ and $\\theta_2$. \n",
    "\n",
    "| $x_n$ | 0.8147 | 0.9058 | 0.1270 | 0.9134 | 0.6324 | 0.0975 | 0.2785 | 0.5469 | 0.9575 | 0.9649 | \n",
    "| :---: | :----: | :----: | :----: | :----: | :----: | :----: | :----: | :----: | :----: | :----: |\n",
    "| $y_n$ | 0.2269 | 0.9533 | -0.1331 | 0.6697 | 0.0064 | -0.1870 | -0.3367 | -0.0476 | 0.9763 | 1.0050 |\n",
    "\n",
    "> Please use hand calculation for computing $\\theta_1$ and $\\theta_2$. Plot the resulting regressed model and the training data on the same figure for the interval of $x \\in [0,1]$.\n",
    "\n",
    "3. The optimum vector $\\boldsymbol{\\theta} = (\\theta_1, \\theta_2)^T $ can also be obtained from the generic expression of $A \\boldsymbol{\\theta}=\\Phi^T \\mathbf{y}$, where $A=\\Phi^T \\Phi$,  $\\Phi =[ \\phi_1(\\mathbf{x}), \\phi_2(\\mathbf{x})] $,  $\\mathbf{x}$ and $\\mathbf{y}$ are  $N \\times 1$ represent the vectors that contain the training data,  $\\Phi$ is a matrix of size $N \\times 2$ and $\\phi_1(x) = x$ and $\\phi_2(x)=x^2$. Write a program in Python to compute $\\theta_1$ and $\\theta_2$ and compare the results with those obtained in Part 2.\n",
    "\n"
   ]
  },
  {
   "cell_type": "markdown",
   "metadata": {},
   "source": [
    "Answer 1.\n",
    "\n",
    "We can derive analytical expressions for the optimal values of $\\theta_1$ and $\\theta_2$ by setting the derivative of the error function to zero:\n",
    "\n",
    "\\begin{align}\n",
    "    0 &= \\frac{\\partial}{\\partial \\theta} E(\\theta) \\\\\n",
    "    0 &= \\frac{\\partial}{\\partial \\theta} \\frac{1}{2} \\sum_n (\\theta_1 x_n + \\theta_2 x_n^2 - y_n)^2 \\\\\n",
    "    0 &= \\frac{1}{2} \\sum_n \\frac{\\partial}{\\partial \\theta} (\\theta_1 x_n + \\theta_2 x_n^2 - y_n)^2 \\\\\n",
    "    0 &= \\frac{1}{2} \\sum_n 2 (\\theta_1 x_n + \\theta_2 x_n^2 - y_n) \\frac{\\partial}{\\partial \\theta} (\\theta_1 x_n + \\theta_2 x_n^2 - y_n) \\\\\n",
    "    0 &= \\sum_n (\\theta_1 x_n + \\theta_2 x_n^2 - y_n) \\frac{\\partial}{\\partial \\theta} (\\theta_1 x_n + \\theta_2 x_n^2 - y_n) \\\\\n",
    "\\end{align}\n",
    "\n",
    "From here, we can derive one equation using the $\\theta_1$ partial derivative:\n",
    "\n",
    "\\begin{align}\n",
    "    0 &= \\sum_n (\\theta_1 x_n + \\theta_2 x_n^2 - y_n) \\frac{\\partial}{\\partial \\theta_1} (\\theta_1 x_n + \\theta_2 x_n^2 - y_n) \\\\\n",
    "    0 &= \\sum_n (\\theta_1 x_n + \\theta_2 x_n^2 - y_n) x_n \\\\\n",
    "    0 &= \\sum_n \\theta_1 x_n^2 + \\theta_2 x_n^3 - y_n x_n \\\\\n",
    "\\end{align}\n",
    "\n",
    "And a second equation from the $\\theta_2$ partial derivative:\n",
    "\n",
    "\\begin{align}\n",
    "    0 &= \\sum_n (\\theta_1 x_n + \\theta_2 x_n^2 - y_n) \\frac{\\partial}{\\partial \\theta_2} (\\theta_1 x_n + \\theta_2 x_n^2 - y_n) \\\\\n",
    "    0 &= \\sum_n (\\theta_1 x_n + \\theta_2 x_n^2 - y_n) x_n^2 \\\\\n",
    "    0 &= \\sum_n \\theta_1 x_n^3 + \\theta_2 x_n^4 - y_n x_n^2 \\\\\n",
    "\\end{align}\n",
    "\n",
    "We can rearrange and combine these into a system of linear equations:\n",
    "\n",
    "\\begin{align}\n",
    "    \\sum_n x_n^2 \\theta_1 + \\sum_n x_n^3 \\theta_2  &= \\sum_n y_n x_n \\\\\n",
    "    \\sum_n x_n^3 \\theta_1 + \\sum_n x_n^4 \\theta_2 &= \\sum_n y_n x_n^2 \\\\\n",
    "\\end{align}"
   ]
  },
  {
   "cell_type": "markdown",
   "metadata": {},
   "source": [
    "Answer 2.\n",
    "\n",
    "Given the provided training data, we can compute the coefficients and righthand side of the linear equations as follows:\n",
    "    \n",
    "\\begin{align}\n",
    "    \\sum_n x_n^2 &= 4.9685 \\\\\n",
    "    \\sum_n x_n^3 &= 4.2632 \\\\\n",
    "    \\sum_n x_n^4 &= 3.7729 \\\\\n",
    "    \\sum_n y x_n &= 3.4136 \\\\\n",
    "    \\sum_n y x_n^2 &= 3.2805 \\\\\n",
    "\\end{align}\n",
    "\n",
    "Thus we have a numerical linear system with two equations and two unknowns:\n",
    "\n",
    "\\begin{align}\n",
    "    4.9685 \\theta_1 + 4.2632 \\theta_2 &= 3.4136 \\\\\n",
    "    4.2632 \\theta_1 + 3.7729 \\theta_2 &= 3.2805 \\\\\n",
    "\\end{align}\n",
    "\n",
    "We can simplify the system by dividing each row by its first coefficient:\n",
    "\n",
    "\\begin{align}\n",
    "    \\theta_1 + 0.8580 \\theta_2 &= 0.6870 \\\\\n",
    "    \\theta_1 + 0.8849 \\theta_2 &= 0.7694 \\\\\n",
    "\\end{align}\n",
    "\n",
    "Then we subtract row 1 from row 2 and solve for $\\theta_2$:\n",
    "\n",
    "\\begin{align}\n",
    "    (0.8849 - 0.8580) \\theta_2 &= (0.7694 - 0.6870) \\\\\n",
    "    0.0269 \\theta_2 &= 0.0823 \\\\\n",
    "    \\theta_2 &= 3.0594\n",
    "\\end{align}\n",
    "\n",
    "Finally, we can substitute $\\theta_2$ back into row 1 and solve for $\\theta_1$:\n",
    "\n",
    "\\begin{align}\n",
    "    \\theta_1 + 0.8580 (3.0594) &= 0.6870 \\\\\n",
    "    \\theta_1 + 2.6249 &= 0.6870 \\\\\n",
    "    \\theta_1 &= -1.9378\n",
    "\\end{align}\n",
    "\n",
    "We can check the regression solution by plotting the model with the training data:"
   ]
  },
  {
   "cell_type": "code",
   "execution_count": 14,
   "metadata": {},
   "outputs": [
    {
     "data": {
      "image/png": "[encoded data removed]",
      "text/plain": [
       "<Figure size 360x432 with 1 Axes>"
      ]
     },
     "metadata": {
      "needs_background": "light"
     },
     "output_type": "display_data"
    }
   ],
   "source": [
    "# create the data set\n",
    "x = np.array([\n",
    "    0.8147, 0.9058, 0.1270, 0.9134, 0.6324, 0.0975, 0.2785, 0.5469, 0.9575, 0.9649\n",
    "])\n",
    "y = np.array([\n",
    "    0.2269, 0.9533, -0.1331, 0.6697, 0.0064, -0.1870, -0.3367, -0.0476, 0.9763, 1.0050\n",
    "])\n",
    "\n",
    "# manually derived model parameters\n",
    "theta = np.array([-1.9378, 3.0594])\n",
    "\n",
    "# evaluate the model\n",
    "x_plot = np.linspace(0, 1, 1000)\n",
    "phi_plot = np.stack([x_plot, x_plot**2], axis=-1)\n",
    "y_plot = phi_plot @ theta\n",
    "\n",
    "# plot the data and the model\n",
    "fig, ax = plt.subplots(figsize=(5, 6))\n",
    "ax.scatter(x, y, label='data', marker='x')\n",
    "ax.plot(x_plot, y_plot, label='model', alpha=0.5)\n",
    "ax.set_title('Regression model')\n",
    "ax.set_xlabel('x')\n",
    "ax.set_ylabel('y')\n",
    "ax.legend(frameon=False)\n",
    "ax.grid(linestyle=':')\n",
    "fig.tight_layout()"
   ]
  },
  {
   "cell_type": "markdown",
   "metadata": {},
   "source": [
    "Answer 3.\n",
    "\n",
    "We can also derive the model parameters by solving the linear system with numpy. We see that the parameters we derived are similar to those generated by numpy, up to some rounding error."
   ]
  },
  {
   "cell_type": "code",
   "execution_count": 15,
   "metadata": {
    "id": "rQ-eeKRc0IIk"
   },
   "outputs": [
    {
     "name": "stdout",
     "output_type": "stream",
     "text": [
      "[-1.93828663  3.05969317]\n"
     ]
    }
   ],
   "source": [
    "# evaluate basis functions\n",
    "phi = np.stack([x, x**2], axis=-1)\n",
    "\n",
    "# set up the linear system\n",
    "A = phi.T @ phi\n",
    "b = phi.T @ y\n",
    "\n",
    "# solve the linear system\n",
    "theta = np.linalg.solve(A, b)\n",
    "\n",
    "print(theta)"
   ]
  },
  {
   "cell_type": "markdown",
   "metadata": {
    "id": "tRK3_rGqs3dw"
   },
   "source": [
    "# Problem 3\n",
    "For a generic model with $K$ basis functions of $\\Phi =[\\phi_1(\\mathbf{x}), \\phi_2(\\mathbf{x}), \\dots, \\phi_K(\\mathbf{x})]$ and the training data given by vectors $\\mathbf{x}$ and $\\mathbf{y}$, the loss function can be expressed by: \\begin{equation}\n",
    "     E(\\boldsymbol{\\theta}) =  \\frac{1}{2} \\bigg \\|\\Phi \\boldsymbol{\\theta} - \\mathbf{y}\\bigg \\|^2 = \\frac{1}{2} \\big(\\Phi \\boldsymbol{\\theta} - \\mathbf{y} \\big)^T \\big(\\Phi \\boldsymbol{\\theta} - \\mathbf{y}\\big) \n",
    " \\end{equation}\n",
    " where $\\boldsymbol{\\theta}$ is a vector of $K\\times 1$  containing the regression parameters. In the above expression, the loss function $E(\\boldsymbol{\\theta})$ is a scalar and its derivative with respect to $\\boldsymbol{\\theta}$ is a vector of size $K\\times 1$, i.e., \n",
    " \\begin{equation}\n",
    "     \\frac{\\partial{E}}{\\partial{\\boldsymbol{\n",
    "       \\theta}}}= \\begin{pmatrix} \\frac{\\partial{E}}{\\partial{\\theta_1}} \\\\\n",
    "     \\frac{\\partial{E}}{\\partial{\\theta_2}} \\\\\n",
    "     . \\\\\n",
    "     . \\\\\n",
    "     . \\\\\n",
    "     \\frac{\\partial{E}}{\\partial{\\theta_K}}\n",
    "     \\end{pmatrix}.\n",
    " \\end{equation}\n",
    " Use the linear algebra identities presented in Lecture 2 and show that the optimality condition given by $\\dfrac{\\partial E}{\\partial \\boldsymbol{\\theta}}=\\mathbf{0}$ results in: $A \\boldsymbol{\\theta}=\\Phi^T \\mathbf{y}$, where $A=\\Phi^T \\Phi$."
   ]
  },
  {
   "cell_type": "markdown",
   "metadata": {},
   "source": [
    "Answer:\n",
    "\n",
    "We can derive the equation for the optimal model parameters that minimized the error function above in matrix notation as follows:\n",
    "\n",
    "\\begin{align}\n",
    "    0 &= \\frac{\\partial}{\\partial \\theta} E(\\theta) \\\\\n",
    "    0 &= \\frac{\\partial}{\\partial \\theta} \\frac{1}{2} \\| \\Phi \\theta - y \\|^2 \\\\\n",
    "    0 &= \\frac{\\partial}{\\partial \\theta} \\frac{1}{2} (\\Phi \\theta - y)^\\top(\\Phi \\theta - y) \\\\\n",
    "    0 &= \\frac{1}{2} \\frac{\\partial}{\\partial \\theta} \\left( (\\Phi \\theta - y)^\\top(\\Phi \\theta - y) \\right) \\\\\n",
    "    0 &= \\frac{1}{2} \\left( \\frac{\\partial}{\\partial \\theta} (\\Phi \\theta - y)^\\top (\\Phi \\theta - y) + (\\Phi \\theta - y)^\\top \\frac{\\partial}{\\partial \\theta} (\\Phi \\theta - y) \\right) \\\\\n",
    "    0 &= \\frac{1}{2} \\left( \\Phi^\\top (\\Phi \\theta - y) + (\\Phi \\theta - y)^\\top \\Phi \\right) \\\\\n",
    "    0 &= \\frac{1}{2} \\left( \\Phi^\\top (\\Phi \\theta - y) + \\Phi^\\top (\\Phi \\theta - y) \\right) \\\\\n",
    "    0 &= \\frac{1}{2} \\left( 2\\Phi^\\top (\\Phi \\theta - y) \\right) \\\\\n",
    "    0 &= \\Phi^\\top (\\Phi \\theta - y) \\\\\n",
    "    0 &= \\Phi^\\top \\Phi \\theta - \\Phi^\\top y \\\\\n",
    "    \\Phi^\\top \\Phi \\theta &= \\Phi^\\top y\n",
    "\\end{align}"
   ]
  },
  {
   "cell_type": "code",
   "execution_count": null,
   "metadata": {},
   "outputs": [],
   "source": []
  }
 ],
 "metadata": {
  "colab": {
   "provenance": []
  },
  "kernelspec": {
   "display_name": "ISSP2170",
   "language": "python",
   "name": "issp2170"
  },
  "language_info": {
   "codemirror_mode": {
    "name": "ipython",
    "version": 3
   },
   "file_extension": ".py",
   "mimetype": "text/x-python",
   "name": "python",
   "nbconvert_exporter": "python",
   "pygments_lexer": "ipython3",
   "version": "3.8.12"
  }
 },
 "nbformat": 4,
 "nbformat_minor": 1
}
